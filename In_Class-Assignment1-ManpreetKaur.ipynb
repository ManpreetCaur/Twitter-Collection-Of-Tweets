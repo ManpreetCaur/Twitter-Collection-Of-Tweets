{
 "cells": [
  {
   "cell_type": "code",
   "execution_count": 8,
   "metadata": {},
   "outputs": [],
   "source": [
    "#importing libraries for Twitter Analysis\n",
    "import tweepy as tw    "
   ]
  },
  {
   "cell_type": "code",
   "execution_count": 9,
   "metadata": {},
   "outputs": [],
   "source": [
    "#credentials from twitter developer account to access Twitter API\n",
    "API_KEY = \"E5DTWGsPVlhsD3hjGH1XuRD3E\"\n",
    "API_SECRET_KEY = \"7BS9jqiXPo42fyQyT99XOTBc2Nyzyuo59AWZ0Ix0daZPz15iFy\"\n",
    "ACCESS_TOKEN = \"1263159684158164992-tV3L2VeQofFQ16p3Wk2HLxHeGmq6Cs\"\n",
    "ACCESS_TOKEN_SECRET = \"SAHxD0wCJG7id0jTHeDnqNe1M7qNq2hKGtYHCFmCxUBGA\""
   ]
  },
  {
   "cell_type": "code",
   "execution_count": 10,
   "metadata": {},
   "outputs": [],
   "source": [
    "#setting up tweepy to authenticate with Twitter \n",
    "authentication = tw.OAuthHandler(API_KEY,API_SECRET_KEY)\n",
    "authentication.set_access_token(ACCESS_TOKEN,ACCESS_TOKEN_SECRET)\n",
    "#creating an API object to pull data from Twitter and passing in the authentication\n",
    "api = tw.API(authentication,wait_on_rate_limit=True)"
   ]
  },
  {
   "cell_type": "code",
   "execution_count": 11,
   "metadata": {},
   "outputs": [],
   "source": [
    "#Searching Tweets using keywords\n",
    "\n",
    "search_word=\"#coinbase\"   #searching keyword without removing retweets\n",
    "date_since=\"2020-07-13\""
   ]
  },
  {
   "cell_type": "code",
   "execution_count": 12,
   "metadata": {
    "scrolled": true
   },
   "outputs": [
    {
     "name": "stdout",
     "output_type": "stream",
     "text": [
      "RT @FabianAhmed4: What if we used #dogecoin to solve our own community problems? What if we could use it as a way to tip live steamers and…\n",
      "RT @FabianAhmed4: What if we used #dogecoin to solve our own community problems? What if we could use it as a way to tip live steamers and…\n",
      "RT @FabianAhmed4: What if we used #dogecoin to solve our own community problems? What if we could use it as a way to tip live steamers and…\n",
      "What if we used #dogecoin to solve our own community problems? What if we could use it as a way to tip live steamers and entertainers? We started a community of people already, it's time we start the movement #dogecointothemoon #coinbase\n",
      "📣 633 #BTC (5,865,230 USD) transferred from #Coinbase to unknown #wallet \n",
      "More info 👉: https://t.co/AXC6jSYmCr\n",
      "$AAPL $AMZN $BTC $ETH $FB $GOOG $MSFT $QQQ $SPY $TSLA #cnbc #foxbusiness #business #money #entrepreneur #trading #investing #investment #stock #stockmarket #forex #crypto #cryptocurrency #Bitcoin #Ethereum #Coinbase #Robinhood https://t.co/4BG3Mo7fHC\n",
      "633.66 #BTC ($5,875,172) withdrawn from #Coinbase wallet (multiple addresses) to unknown address (17RWa...jVmDu) \n",
      "    \n",
      "Tx: https://t.co/f3Ca51ZJUb https://t.co/UfqDf06ec1\n",
      "RT @musicnews360: $AAPL $AMZN $BTC $ETH $FB $GOOG $MSFT $QQQ $SPY $TSLA #cnbc #foxbusiness #business #money #entrepreneur #trading #investi…\n",
      "@pyrrhosgold @Crypt0spawn There is a contrast between Tezos and ETHEREUM, but they are not hostile.  Will grow together. #Amun #LPOS #Tezos 🚀 #XTZ #BITCOIN #tZero #BTGPactual #Vertalo #ElevatedReturns 💪🏼 #STO #SECURITIZE #Coinbase #ETH  #TokenSoft 🔥 #AspenDigital #AndraCapital #MoneyTrack #TaurusGroup\n",
      "So there was this ride to the moon I heard about..... #VeChain #coinbase\n"
     ]
    }
   ],
   "source": [
    "#Collecting 10 Latest tweets\n",
    "\n",
    "tweets= tw.Cursor(api.search, q=search_word, lang=\"en\", since=date_since, result_type=\"latest\", tweet_mode='extended' ).items(10)\n",
    "\n",
    "# for priniting tweets of specific keyword\n",
    "for tweet in tweets:\n",
    "     print(tweet.full_text)"
   ]
  },
  {
   "cell_type": "code",
   "execution_count": 13,
   "metadata": {},
   "outputs": [
    {
     "name": "stdout",
     "output_type": "stream",
     "text": [
      "@outbeyondideas Writing with “something to say!” ... “grace” was the perfect word. Am I a practitioner of grace, no, as I search in retrospect, but I do “bitter” well! (smiling).\n",
      "@URISGOLD oh! just like,,, ask your mutuals or search their @ and the word trigger or tag to see if they’ve tweeted about wanting certain things tagged! That’s what I do.\n",
      "@PS5Lion @Xbox \"No one cares\" \n",
      "\n",
      "Bro, here's a search for ALL your tweets with the word \"Xbox\" in them... too. many. to. count. 🤣 #rentfree \n",
      "\n",
      "https://t.co/ZrcAh1mEFU\n",
      "@ashelynx22 @bang_yixing @RutgersU @NJIT His future will be ruined through the instigation of you and others. He tried apologizing there’s nothing much more he can do. He cannot Change what he said it’s already done but he can learn from it without all this. Search up the real background of the word you’ll be suprised\n",
      "Calling all birdies... loving my new iPhone case from @society6 search word Mrspinkbirdie... https://t.co/DaBpO5dtaa\n",
      "Check out the awesome word game WordWhizzle Search! #wordwhizzlesearch https://t.co/srjYJenMRC https://t.co/yQ2KSyfVpo\n",
      "i guess some people just search for the word occult on here &amp; see what they find..? idk lol 1 Love\n",
      "#keepbuildin'\n",
      "#beresilient\n",
      "Story time: one night driving home from work I heard a song on Jazz Odyssey on @KUVOJazz. Not sure if they know the rule, the fewer Shazams, the hotter the track. The fusion of house, jazz, hip hop and spoken word, on one track was so unique and cool I started to search the web\n",
      "Go to this link below and search this into the gematria converter omfg 😳 \n",
      "Read ALL OF THE Left column alllllllllll the way down omfg \n",
      "who will donald trump defeat in israel\n",
      "https://t.co/EzNyQpdKr0+\n",
      "@maggieNYT I wish Maggie had the stones to explain this completely inane tweet...for one, it’s a 2 second google search if she honestly Doubts it and secondly, why is a supposed NYT quality reporter putting quotes around The word more?  @nytimes cant believe this elevates their brand?\n"
     ]
    }
   ],
   "source": [
    "#Collection of tweets after Cleaning of data by removing retweets\n",
    "\n",
    "tweets= tw.Cursor(api.search, q=\"search_word\"+\"-filter:retweets\", lang=\"en\", since=date_since, result_type=\"latest\",\n",
    "                  tweet_mode='extended' ).items(10)      #removing retweets using filter\n",
    "\n",
    "# for priniting tweets of specific keyword\n",
    "for tweet in tweets:\n",
    "     print(tweet.full_text)"
   ]
  },
  {
   "cell_type": "code",
   "execution_count": 7,
   "metadata": {},
   "outputs": [
    {
     "name": "stdout",
     "output_type": "stream",
     "text": [
      "2020-07-15 01:15:55 \n",
      " fordnation \n",
      " Ontario \n",
      " Today I visited @shaver_inc to see firsthand how they’ve made an impact during #COVID19. \n",
      "\n",
      "They retooled their operations to produce face shields. Soon, they’re expected to be able to make 25,000 shields a week. \n",
      "\n",
      "I was happy to help make 1 of those 25,000 today! https://t.co/of9UaByfYL\n",
      "2020-07-15 01:13:54 \n",
      " CoinDesk \n",
      " New York, USA \n",
      " RT @nlw: $131,000,000 \n",
      "\n",
      "That's the value of bonuses executives have received from 19 large co's that have gone bankrupt since the start of…\n",
      "2020-07-15 01:07:44 \n",
      " CoinDesk \n",
      " New York, USA \n",
      " RT @Flipboard: Holding any #cryptocurrency and confused how to include it in your tax returns? @Coindesk has a guide on crypto taxes that c…\n",
      "2020-07-15 00:53:49 \n",
      " Cointelegraph \n",
      " New York, New York \n",
      " RT @CointelegraphMT: Is #Chainlink $LINK price continues to gain alongside other #altcoins but is it #FOMO or fundamentals that are driving…\n",
      "2020-07-15 00:36:04 \n",
      " Cointelegraph \n",
      " New York, New York \n",
      " A former Chinese official predicts the forthcoming CBDC will lead to the creation of digital stocks https://t.co/Cp7aUbJN0E\n",
      "2020-07-15 00:19:05 \n",
      " CoinDesk \n",
      " New York, USA \n",
      " It's hard to tell people not to be angry with capitalism when the system is rewarding failure with millions of dollars in bankruptcy bonuses.\n",
      "@NLW digs in on this episode of The Breakdown.  Full Episode: https://t.co/SAiViA0ISR https://t.co/AbDClxW6g2\n",
      "2020-07-15 00:10:38 \n",
      " realDonaldTrump \n",
      " Washington, DC \n",
      " Joe Biden claims to be prioritizing ‘safety of kids’ by keeping schools closed this Fall. Yet he remains silent about children being slaughtered by violence on the streets of Democrat run cities. You &amp; your children won’t be SAFE in Biden’s America, and neither will anyone else!\n",
      "2020-07-14 23:45:54 \n",
      " BitcoinMagazine \n",
      " Nashville, TN \n",
      " Talking miniscript key management and interoperability now 🎙\n",
      "\n",
      "Tune in here now to learn all about it! 👇\n",
      "\n",
      "https://t.co/f3HyXmsmhS https://t.co/AisE04nU61\n",
      "2020-07-14 23:30:23 \n",
      " Cointelegraph \n",
      " New York, New York \n",
      " “In the letter, the payments giant admitted to “continuously monitoring &amp; evaluating global developments in the crypto and blockchain/distributed ledger space,” stressing that it favors a “harmonized” regulatory approach that wouldn’t compromise innovation.” Reports Cointelegraph\n",
      "2020-07-14 23:29:43 \n",
      " BitcoinMagazine \n",
      " Nashville, TN \n",
      " Explaining Miniscript w/ Andrew Poelstra #TechnicalTuesday 7/14/20 https://t.co/tSYfSfyeZI\n"
     ]
    }
   ],
   "source": [
    "# getting tweets from timeline using api object\n",
    "Latest_Timeline_tweets = api.home_timeline(tweet_mode='extended',count=10) \n",
    "for single_tweet in Latest_Timeline_tweets:\n",
    "    print(single_tweet.created_at,\"\\n\", single_tweet.user.screen_name , \"\\n\", single_tweet.user.location,\"\\n\", \n",
    "          single_tweet.full_text)"
   ]
  },
  {
   "cell_type": "code",
   "execution_count": null,
   "metadata": {},
   "outputs": [],
   "source": []
  }
 ],
 "metadata": {
  "kernelspec": {
   "display_name": "Python 3",
   "language": "python",
   "name": "python3"
  },
  "language_info": {
   "codemirror_mode": {
    "name": "ipython",
    "version": 3
   },
   "file_extension": ".py",
   "mimetype": "text/x-python",
   "name": "python",
   "nbconvert_exporter": "python",
   "pygments_lexer": "ipython3",
   "version": "3.8.3"
  }
 },
 "nbformat": 4,
 "nbformat_minor": 4
}
